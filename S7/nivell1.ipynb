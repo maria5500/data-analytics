{
 "cells": [
  {
   "attachments": {},
   "cell_type": "markdown",
   "metadata": {},
   "source": [
    "**NIVELL 1**"
   ]
  },
  {
   "attachments": {},
   "cell_type": "markdown",
   "metadata": {},
   "source": [
    "**Exercici 1. Calculadora de l'índex de massa corporal**\n",
    "\n",
    "Escriu una funció que calculi l'IMC ingressat per l'usuari/ària, és a dir, qui ho executi haurà d'ingressar aquestes dades. La funció ha de classificar el resultat en les seves respectives categories."
   ]
  },
  {
   "cell_type": "code",
   "execution_count": 1,
   "metadata": {},
   "outputs": [
    {
     "name": "stdout",
     "output_type": "stream",
     "text": [
      "Hola! Per calcular el teu índex de massa corporal introdueix el teu pes en kg i a continuació la teva alçada en metres.\n",
      "Has indicat un pes de 60.0 kg i una alçada de 1.6 metres.\n",
      "El teu índex de massa corporal és de 23.4. Segons el càlcul de l'IMC, et trobes dins del rang de Pes normal.\n"
     ]
    }
   ],
   "source": [
    "# Funció per calcular l'IMC i obtenir el rang\n",
    "def imc_function(kg, m):\n",
    "    # Càlcul IMC\n",
    "    imc = kg / (m**2)\n",
    "\n",
    "    # Determinar el rang de l'IMC en funció del valor calculat a la variable 'rang'\n",
    "    if imc < 18.5:\n",
    "        rang = \" de Baix pes.\"\n",
    "\n",
    "    elif imc < 25:\n",
    "        rang = \" de Pes normal.\"\n",
    "        \n",
    "    elif 25 <= imc < 30:\n",
    "        rang = \" de Sobrepès.\"\n",
    "\n",
    "    else:\n",
    "        rang = \" d'Obesitat.\"\n",
    "\n",
    "    return imc, rang\n",
    "\n",
    "# Missatge d'entrada i intruccions per l'usuari\n",
    "print(\"Hola! Per calcular el teu índex de massa corporal introdueix el teu pes en kg i a continuació la teva alçada en metres.\")\n",
    "\n",
    "# Bloc que s'executa\n",
    "try:\n",
    "    # Sol·licitar entrada de dades a l'usuari\n",
    "    kg = float(input(\"Introdueix el teu pes en kilograms (per exemple, 80.5): \"))\n",
    "    m = float(input(\"Introdueix la teva alçada en metres (per exemple, 1.70): \"))\n",
    "\n",
    "    # Calcular l'IMC i rang\n",
    "    imc, rang = imc_function(kg, m)\n",
    "\n",
    "    # Mostrar els resultats\n",
    "    print(f\"Has indicat un pes de {kg} kg i una alçada de {m} metres.\")\n",
    "    print(\"El teu índex de massa corporal és de {:.1f}. Segons el càlcul de l'IMC, et trobes dins del rang{}\".format(imc, rang))\n",
    "\n",
    "# Bloc que s'executa si 'try' falla\n",
    "except ValueError:\n",
    "    # Missatge de control d'errors\n",
    "    print(\"Si us plau, introdueix un valor numèric vàlid per al pes i l'alçada.\")"
   ]
  },
  {
   "attachments": {},
   "cell_type": "markdown",
   "metadata": {},
   "source": [
    "**Exercici 2. Convertidor de temperatures.**\n",
    "\n",
    "Existeixen diverses unitats de temperatura utilitzades en diferents contextos i regions. Les més comunes són Celsius (°C), Fahrenheit (°F) i Kelvin (K). També existeixen altres unitats com Rankine (°Ra) i Réaumur (°Re). Selecciona almenys 2 conversors, de tal manera que en introduir una temperatura retorni, com a mínim, dues conversions."
   ]
  },
  {
   "cell_type": "code",
   "execution_count": 2,
   "metadata": {},
   "outputs": [
    {
     "name": "stdout",
     "output_type": "stream",
     "text": [
      "La conversió de 27.37C és:\n",
      "81.27F\n",
      "300.52K\n"
     ]
    }
   ],
   "source": [
    "# Funció de conversió de temperatura (Celsius, Fahrenheit i Kelvin)\n",
    "def temp_conversion_all(value, unit_from):\n",
    "    conversions = {}\n",
    "    if unit_from == \"C\":\n",
    "        conversions[\"F\"] = celsius_to_fahrenheit(value)\n",
    "        conversions[\"K\"] = celsius_to_kelvin(value)\n",
    "    elif unit_from == \"F\":\n",
    "        conversions[\"C\"] = fahrenheit_to_celsius(value)\n",
    "        conversions[\"K\"] = fahrenheit_to_kelvin(value)\n",
    "    elif unit_from == \"K\":\n",
    "        conversions[\"C\"] = kelvin_to_celsius(value)\n",
    "        conversions[\"F\"] = kelvin_to_fahrenheit(value)\n",
    "    \n",
    "    return conversions\n",
    "\n",
    "# Definir les funcions que fan cada conversió\n",
    "def celsius_to_kelvin(value):\n",
    "    return value + 273.15\n",
    "\n",
    "def celsius_to_fahrenheit(value):\n",
    "    return value * 9 / 5 + 32\n",
    "\n",
    "def fahrenheit_to_celsius(value):\n",
    "    return (value - 32) * 5 / 9\n",
    "\n",
    "def fahrenheit_to_kelvin(value):\n",
    "    return (value - 32) * 5 / 9 + 273.15\n",
    "\n",
    "def kelvin_to_celsius(value):\n",
    "    return value - 273.15\n",
    "\n",
    "def kelvin_to_fahrenheit(value):\n",
    "    return (value - 273.15) * 9 / 5 + 32\n",
    "\n",
    "# Funció per formatejar els valors de sortida per a números amb o sense decimals\n",
    "def format_number(value):\n",
    "    if value.is_integer():\n",
    "        return f\"{int(value)}\"\n",
    "    else:\n",
    "        return f\"{value:.2f}\"\n",
    "\n",
    "# Solicitar la temperatura amb la unitat, assegurant-se que només es permeten valors C, K o F\n",
    "while True:\n",
    "    input_value = input(\"Introdueix la temperatura (per exemple, 36.5C, 300K, 98.6F): \").strip().upper()\n",
    "    \n",
    "    try:\n",
    "        value, unit_from = float(input_value[:-1]), input_value[-1]\n",
    "        if unit_from in ['C', 'K', 'F']:\n",
    "            break\n",
    "    except ValueError:\n",
    "        print(\"Entrada no vàlida. Si us plau, introdueix un valor seguit de 'C', 'K' o 'F'.\")\n",
    "        \n",
    "    print(\"Entrada no vàlida. Si us plau, introdueix un valor seguit de 'C', 'K' o 'F'.\")\n",
    "\n",
    "# Executa la conversió de temperatura introduïda a les altres dues unitat\n",
    "try:\n",
    "    conversions = temp_conversion_all(value, unit_from)\n",
    "    print(f\"La conversió de {input_value} és:\")\n",
    "    for unit, converted_value in conversions.items():\n",
    "        print(f\"{format_number(converted_value)}{unit}\")\n",
    "except ValueError:\n",
    "    print(\"El valor de la temperatura no és vàlid. Si us plau, introdueix un número vàlid.\")\n"
   ]
  },
  {
   "attachments": {},
   "cell_type": "markdown",
   "metadata": {},
   "source": [
    "**Exercici 3. Comptador de paraules d'un text.**\n",
    "\n",
    "Escriu una funció que donat un text, mostri les vegades que apareix cada paraula."
   ]
  },
  {
   "cell_type": "code",
   "execution_count": 8,
   "metadata": {},
   "outputs": [
    {
     "name": "stdout",
     "output_type": "stream",
     "text": [
      "Aquest és el resultat:\n",
      "Huye: 1\n",
      "hacia: 1\n",
      "los: 1\n",
      "bosques: 1\n",
      "vete: 1\n",
      "a: 1\n",
      "la: 3\n",
      "montaña: 1\n",
      "límpiate: 1\n",
      "boca: 1\n",
      "vive: 1\n",
      "en: 1\n",
      "las: 3\n",
      "cabañas: 1\n",
      "toca: 1\n",
      "con: 3\n",
      "manos: 1\n",
      "tierra: 1\n",
      "mojada: 1\n",
      "alimenta: 1\n",
      "el: 1\n",
      "cuerpo: 1\n",
      "raíz: 1\n",
      "amarga: 1\n",
      "bebe: 1\n",
      "de: 1\n",
      "rocas: 1\n",
      "duerme: 1\n",
      "sobre: 1\n",
      "escarcha: 1\n",
      "renueva: 1\n",
      "tejidos: 1\n",
      "salitre: 1\n",
      "y: 1\n",
      "agua: 1\n"
     ]
    }
   ],
   "source": [
    "# Importar Python String Module\n",
    "import string\n",
    "\n",
    "# Amb un diccionari buit comptarem les aparicions de cada paraula\n",
    "def word_occurrence(text):\n",
    "    occurrence = {}\n",
    "\n",
    "    # Divideix el text en paraules \n",
    "    words = text.split()\n",
    "\n",
    "    # Iterar sobre cada paraula\n",
    "    for word in words:\n",
    "        # Si la paraula conté un apòstrof, fer un split\n",
    "        if \"'\" in word:\n",
    "            parts = word.split(\"'\")\n",
    "            for part in parts:\n",
    "                # Eliminar els símbols de puntuació de les parts\n",
    "                clean_part = part.translate(str.maketrans('', '', string.punctuation))\n",
    "                # Incrementar el comptador de la paraula neta en el diccionari\n",
    "                occurrence[clean_part] = occurrence.get(clean_part, 0) + 1\n",
    "        else:\n",
    "            # Eliminar els símbols de puntuació de la paraula\n",
    "            clean_word = word.translate(str.maketrans('', '', string.punctuation))\n",
    "            # Incrementar el comptador de la paraula neta en el diccionari\n",
    "            occurrence[clean_word] = occurrence.get(clean_word, 0) + 1\n",
    "\n",
    "    # Mostrar les aparicions de cada paraula\n",
    "    for word, counter in occurrence.items():\n",
    "        print(f\"{word}: {counter}\")\n",
    "\n",
    "# Sol·licitar que l'usuari introdueixi el text\n",
    "text = input(\"Hola! Introdueix un text per saber les vegades que apareix cada paraula:\")\n",
    "\n",
    "# Mostrar el resultat\n",
    "print(\"Aquest és el resultat:\")\n",
    "\n",
    "# Cridar la funció word_occurrence amb el text introduït per l'usuari\n",
    "word_occurrence(text)"
   ]
  },
  {
   "attachments": {},
   "cell_type": "markdown",
   "metadata": {},
   "source": [
    "**Exercici 4. Diccionari invers.**\n",
    "\n",
    "Resulta que el client té una enquesta molt antiga que s'emmagatzema en un diccionari i els resultats els necessita al revés, és a dir, intercanviats les claus i els valors. Els valors i claus en el diccionari original són únics; si aquest no és el cas, la funció hauria d'imprimir un missatge d'advertiment."
   ]
  },
  {
   "attachments": {},
   "cell_type": "markdown",
   "metadata": {},
   "source": [
    "### Prova amb duplicats"
   ]
  },
  {
   "cell_type": "code",
   "execution_count": 11,
   "metadata": {},
   "outputs": [
    {
     "name": "stdout",
     "output_type": "stream",
     "text": [
      "Advertiment: el valor 'banana' ja existeix com a clau en el diccionari invers. No s'ha fet l'intercanvi z:banana.\n",
      "Diccionari original: {1: 'a', 2: 'b', 3: 'c', 'x': 'apple', 'y': 'banana', 'z': 'banana'}\n",
      "Diccionari invers: {'a': 1, 'b': 2, 'c': 3, 'apple': 'x', 'banana': 'y'}\n"
     ]
    }
   ],
   "source": [
    "# Definir la funció diccionari invers\n",
    "def diccionari_invers(dicc_original):\n",
    "    dicc_invers = {}\n",
    "    advertiment = False\n",
    "    \n",
    "    # Iteració sobre el diccionari original i comprovació de valors duplicats\n",
    "    for clau, valor in dicc_original.items():\n",
    "        if valor in dicc_invers:\n",
    "            print(f\"Advertiment: el valor '{valor}' ja existeix com a clau en el diccionari invers. No s'ha fet l'intercanvi {clau}:{valor}.\")\n",
    "            advertiment = True\n",
    "        # Afegir el diccionari invers\n",
    "        else:\n",
    "            dicc_invers[valor] = clau\n",
    "\n",
    "    # Missatge final de confirmació\n",
    "    if not advertiment:\n",
    "        print(\"El diccionari invers s'ha creat correctament.\")\n",
    "\n",
    "    # Retorna el diccionari invers\n",
    "    return dicc_invers\n",
    "\n",
    "# Introduir les dades en format diccionari\n",
    "dicc_original = {\n",
    "    1: \"a\",\n",
    "    2: \"b\",\n",
    "    3: \"c\",\n",
    "    \"x\": \"apple\",\n",
    "    \"y\": \"banana\",\n",
    "    \"z\": \"banana\"\n",
    "}\n",
    "\n",
    "# Cridar la funció i mostrar resultats\n",
    "dicc_invers = diccionari_invers(dicc_original)\n",
    "print(\"Diccionari original:\", dicc_original)\n",
    "print(\"Diccionari invers:\", dicc_invers)\n"
   ]
  },
  {
   "attachments": {},
   "cell_type": "markdown",
   "metadata": {},
   "source": [
    "### Prova sense duplicats"
   ]
  },
  {
   "cell_type": "code",
   "execution_count": 10,
   "metadata": {},
   "outputs": [
    {
     "name": "stdout",
     "output_type": "stream",
     "text": [
      "El diccionari invers s'ha creat correctament.\n",
      "Diccionari original: {1: 'a', 2: 'b', 3: 'c', 'x': 'apple', 'y': 'banana', 'z': 'orange'}\n",
      "Diccionari invers: {'a': 1, 'b': 2, 'c': 3, 'apple': 'x', 'banana': 'y', 'orange': 'z'}\n"
     ]
    }
   ],
   "source": [
    "# Definir la funció diccionari invers\n",
    "def diccionari_invers(dicc_original):\n",
    "    dicc_invers = {}\n",
    "    advertiment = False\n",
    "    \n",
    "    # Iteració sobre el diccionari original i comprovació de valors duplicats\n",
    "    for clau, valor in dicc_original.items():\n",
    "        if valor in dicc_invers:\n",
    "            print(f\"Advertiment: el valor '{valor}' ja existeix com a clau en el diccionari invers. No s'ha fet l'intercanvi {clau}:{valor}.\")\n",
    "            advertiment = True\n",
    "        # Afegir el diccionari invers\n",
    "        else:\n",
    "            dicc_invers[valor] = clau\n",
    "\n",
    "    # Missatge final de confirmació\n",
    "    if not advertiment:\n",
    "        print(\"El diccionari invers s'ha creat correctament.\")\n",
    "\n",
    "    # Retorna el diccionari invers\n",
    "    return dicc_invers\n",
    "\n",
    "dicc_original = {\n",
    "    1: \"a\",\n",
    "    2: \"b\",\n",
    "    3: \"c\",\n",
    "    \"x\": \"apple\",\n",
    "    \"y\": \"banana\",\n",
    "    \"z\": \"orange\"\n",
    "}\n",
    "\n",
    "dicc_invers = diccionari_invers(dicc_original)\n",
    "print(\"Diccionari original:\", dicc_original)\n",
    "print(\"Diccionari invers:\", dicc_invers)"
   ]
  }
 ],
 "metadata": {
  "kernelspec": {
   "display_name": ".mypyenv",
   "language": "python",
   "name": "python3"
  },
  "language_info": {
   "codemirror_mode": {
    "name": "ipython",
    "version": 3
   },
   "file_extension": ".py",
   "mimetype": "text/x-python",
   "name": "python",
   "nbconvert_exporter": "python",
   "pygments_lexer": "ipython3",
   "version": "3.12.2"
  },
  "orig_nbformat": 4,
  "vscode": {
   "interpreter": {
    "hash": "c36d2593a2955c7c4b0a8cf088c026f2a0a3a2a5d4854fb6bb5afecae7f2c54c"
   }
  }
 },
 "nbformat": 4,
 "nbformat_minor": 2
}
