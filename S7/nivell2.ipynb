{
 "cells": [
  {
   "attachments": {},
   "cell_type": "markdown",
   "metadata": {},
   "source": [
    "**NIVELL 2**"
   ]
  },
  {
   "attachments": {},
   "cell_type": "markdown",
   "metadata": {},
   "source": [
    "**Exercici 1. Diccionari invers amb duplicats**\n",
    "\n",
    "Continuant amb l'exercici 4 del nivell 1: al client es va oblidar de comentar un detall i resulta que els valors en el diccionari original poden duplicar-se i més, per la qual cosa les claus intercanviades poden tenir duplicats. En aquest cas, en l'exercici anterior imprimies un missatge d'advertiment, ara, els valors del diccionari resultant hauran d'emmagatzemar-se com una llista. Tingues en compte que si és un valor únic no ha de ser una llista."
   ]
  },
  {
   "cell_type": "code",
   "execution_count": 1,
   "metadata": {},
   "outputs": [
    {
     "name": "stdout",
     "output_type": "stream",
     "text": [
      "Diccionari original: {1: 'a', 2: 'b', 3: 'c', 'x': 'apple', 'y': 'banana', 'z': 'banana'}\n",
      "Diccionari invers: {'a': 1, 'b': 2, 'c': 3, 'apple': 'x', 'banana': ['y', 'z']}\n"
     ]
    }
   ],
   "source": [
    "# Definir la funció diccionari invers\n",
    "def diccionari_invers(dicc_original):\n",
    "    dicc_invers = {}\n",
    "    \n",
    "    # Iteració sobre el diccionari original\n",
    "    for clau, valor in dicc_original.items():\n",
    "        # Si el valor ja existeix en el diccionari invers\n",
    "        if valor in dicc_invers:\n",
    "            # Convertir el valor existent en una llista i afegir la nova clau\n",
    "            if not isinstance(dicc_invers[valor], list):\n",
    "                dicc_invers[valor] = [dicc_invers[valor]]\n",
    "            dicc_invers[valor].append(clau)\n",
    "        else:\n",
    "            # Si el valor és únic, afegir-lo al diccionari invers\n",
    "            dicc_invers[valor] = clau\n",
    "\n",
    "    # Retorna el diccionari invers\n",
    "    return dicc_invers\n",
    "\n",
    "# Introduir les dades en format diccionari\n",
    "dicc_original = {\n",
    "    1: \"a\",\n",
    "    2: \"b\",\n",
    "    3: \"c\",\n",
    "    \"x\": \"apple\",\n",
    "    \"y\": \"banana\",\n",
    "    \"z\": \"banana\"\n",
    "}\n",
    "\n",
    "# Cridar la funció i mostrar resultats\n",
    "dicc_invers = diccionari_invers(dicc_original)\n",
    "print(\"Diccionari original:\", dicc_original)\n",
    "print(\"Diccionari invers:\", dicc_invers)"
   ]
  },
  {
   "attachments": {},
   "cell_type": "markdown",
   "metadata": {},
   "source": [
    "**Exercici 2. Conversió de tipus de dades**\n",
    "\n",
    "El client rep una llista de dades i necessita generar dues llistes, la primera on estaran tots els elements que es van poder convertir en flotants i l'altra on estan els elements que no es van poder convertir. Exemple de la llista que rep el client: [ '1.3', 'one' , '1e10' , 'seven', '3-1/2', ('2',1,1.4,'not-a-number'), [1,2,'3','3.4']]"
   ]
  },
  {
   "cell_type": "code",
   "execution_count": 2,
   "metadata": {},
   "outputs": [
    {
     "name": "stdout",
     "output_type": "stream",
     "text": [
      "La llista de dades introduïdes és: ['1.3', 'one', '1e10', 'seven', '3-1/2', ('2', 1, 1.4, 'not-a-number'), [1, 2, '3', '3.4']]\n",
      "Dades convertibles a float: [1.3, 10000000000.0, 2.0, 1.0, 1.4, 1.0, 2.0, 3.0, 3.4]\n",
      "Dades no convertibles a float: ['one', 'seven', '3-1/2', 'not-a-number']\n"
     ]
    }
   ],
   "source": [
    "# Definir la funció separar_dades amb dos llistes buides\n",
    "def separar_dades(dades):\n",
    "    dades_convertibles = []\n",
    "    dades_no_convertibles = []\n",
    "\n",
    "    # Funció interna que intenta convertir un element en float i retorna una tupla\n",
    "    def intentar_convertir(element):\n",
    "        try:\n",
    "            return float(element), True\n",
    "        except (ValueError, TypeError):\n",
    "            return element, False\n",
    "\n",
    "    # Iteració sobre els elements de la llista dades\n",
    "    for element in dades:\n",
    "        # Si l'element és una llista o tupla, s'itera sobre els seus sub_elements\n",
    "        if isinstance(element, (list, tuple)):\n",
    "            # Per cada sub_element es crida la funció intentar_convertir\n",
    "            for sub_element in element:\n",
    "                result, success = intentar_convertir(sub_element)\n",
    "                # Si la conversió es fa amb èxit, s'agrega a dades convertibles, del contrari a dades no convertibles\n",
    "                if success:\n",
    "                    dades_convertibles.append(result)\n",
    "                else:\n",
    "                    dades_no_convertibles.append(sub_element)\n",
    "        # Quan l'element no és una llista o tupla, s'intenta convertir directament\n",
    "        else:\n",
    "            result, success = intentar_convertir(element)\n",
    "            if success:\n",
    "                dades_convertibles.append(result)\n",
    "            else:\n",
    "                dades_no_convertibles.append(element)\n",
    "\n",
    "    return dades_convertibles, dades_no_convertibles\n",
    "\n",
    "# Dades proporcionades pel client\n",
    "dades_client = ['1.3', 'one', '1e10', 'seven', '3-1/2', ('2', 1, 1.4, 'not-a-number'), [1, 2, '3', '3.4']]\n",
    "print(f'La llista de dades introduïdes és: {dades_client}')\n",
    "\n",
    "# Separar les dades en convertibles i no convertibles\n",
    "dades_convertibles, dades_no_convertibles = separar_dades(dades_client)\n",
    "\n",
    "# Mostrar els resultats\n",
    "print(\"Dades convertibles a float:\", dades_convertibles)\n",
    "print(\"Dades no convertibles a float:\", dades_no_convertibles)"
   ]
  }
 ],
 "metadata": {
  "kernelspec": {
   "display_name": ".mypyenv",
   "language": "python",
   "name": "python3"
  },
  "language_info": {
   "codemirror_mode": {
    "name": "ipython",
    "version": 3
   },
   "file_extension": ".py",
   "mimetype": "text/x-python",
   "name": "python",
   "nbconvert_exporter": "python",
   "pygments_lexer": "ipython3",
   "version": "3.12.2"
  },
  "orig_nbformat": 4,
  "vscode": {
   "interpreter": {
    "hash": "c36d2593a2955c7c4b0a8cf088c026f2a0a3a2a5d4854fb6bb5afecae7f2c54c"
   }
  }
 },
 "nbformat": 4,
 "nbformat_minor": 2
}
